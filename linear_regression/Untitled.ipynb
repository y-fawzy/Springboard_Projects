{
 "cells": [
  {
   "cell_type": "code",
   "execution_count": 22,
   "metadata": {},
   "outputs": [],
   "source": [
    "import pandas as pd\n",
    "import requests\n",
    "import json\n",
    "import matplotlib.pyplot as plt\n",
    "import datetime"
   ]
  },
  {
   "cell_type": "code",
   "execution_count": 23,
   "metadata": {},
   "outputs": [
    {
     "name": "stdout",
     "output_type": "stream",
     "text": [
      "{'license_title': 'Open Government Licence – Toronto', 'owner_unit': None, 'relationships_as_object': [], 'topics': 'Transportation,Health', 'owner_email': 'Sandro.Tersigni@toronto.ca', 'excerpt': \"Bike Parking location and asset type data maintained by the City of Toronto's Bike Parking Program.\\r\\n\", 'private': False, 'owner_division': 'Transportation Services', 'num_tags': 6, 'id': '71e6c206-96e1-48f1-8f6f-0e804687e3be', 'metadata_created': '2019-07-23T18:01:58.028981', 'refresh_rate': 'Daily', 'title': 'Street Furniture - Bicycle Parking', 'license_url': 'https://open.toronto.ca/open-data-license/', 'state': 'active', 'information_url': 'http://gis.toronto.ca/arcgis/rest/services/primary/cot_geospatial2_mtm/MapServer/27', 'license_id': 'open-government-licence-toronto', 'type': 'dataset', 'resources': [{'cache_last_updated': None, 'package_id': '71e6c206-96e1-48f1-8f6f-0e804687e3be', 'datastore_active': False, 'id': 'e0700d94-0c4d-4058-9354-a4b397c0b249', 'size': None, 'format': 'GeoJSON', 'state': 'active', 'hash': '', 'description': '', 'is_preview': True, 'last_modified': '2019-12-10T13:03:41.000183', 'url_type': 'datastore', 'mimetype': None, 'cache_url': None, 'extract_job': 'B1_FBicycleParking', 'name': 'Street furniture-Bicycle parking data', 'created': '2019-07-23T18:02:01.916616', 'url': 'https://ckan0.cf.opendata.inter.prod-toronto.ca/datastore/dump/e0700d94-0c4d-4058-9354-a4b397c0b249', 'mimetype_inner': None, 'position': 0, 'revision_id': '0f8bd564-c057-434b-b1fb-f23e6b1bd4b5', 'resource_type': None}], 'limitations': None, 'num_resources': 1, 'collection_method': None, 'is_retired': False, 'groups': [], 'creator_user_id': '150d5301-86ec-44a3-a070-50f2cea839c9', 'dataset_category': 'Map', 'relationships_as_subject': [], 'name': 'street-furniture-bicycle-parking', 'metadata_modified': '2019-12-10T13:03:41.985495', 'isopen': False, 'url': None, 'notes': 'The City installs bicycle post-and-rings within the public right-of-way, typically on City of Toronto sidewalks and boulevards, wherever public bicycle parking facilities are needed.\\r\\n', 'owner_org': '95a064ae-77e8-4ef0-a4e3-4e2d43e1f066', 'last_refreshed': '2019-12-10T13:03:41.000183', 'image_url': None, 'formats': 'SHP,CSV,GEOJSON,GPKG', 'owner_section': None, 'organization': {'description': '', 'created': '2019-07-23T15:51:35.236542', 'title': 'City of Toronto', 'name': 'city-of-toronto', 'is_organization': True, 'state': 'active', 'image_url': '', 'revision_id': '62817a72-3dc5-450a-8cc4-fef2c51660da', 'type': 'organization', 'id': '95a064ae-77e8-4ef0-a4e3-4e2d43e1f066', 'approval_status': 'approved'}, 'revision_id': 'bf49b30d-ec52-4e64-91d3-c17374bb148c', 'civic_issues': None}\n"
     ]
    }
   ],
   "source": [
    "r1 = requests.get('https://tor.publicbikesystem.net/ube/gbfs/v1/en/station_information')\n",
    "r2 = requests.get('https://tor.publicbikesystem.net/ube/gbfs/v1/en/station_status')"
   ]
  },
  {
   "cell_type": "code",
   "execution_count": 13,
   "metadata": {},
   "outputs": [],
   "source": [
    "dic={\"names\":names,\n",
    "    \"age\":age,\n",
    "    \"location\":location}"
   ]
  },
  {
   "cell_type": "code",
   "execution_count": 15,
   "metadata": {},
   "outputs": [],
   "source": [
    "df=pd.DataFrame(dic)"
   ]
  },
  {
   "cell_type": "code",
   "execution_count": 17,
   "metadata": {},
   "outputs": [
    {
     "data": {
      "text/plain": [
       "Index(['names', 'age', 'location'], dtype='object')"
      ]
     },
     "execution_count": 17,
     "metadata": {},
     "output_type": "execute_result"
    }
   ],
   "source": [
    "df.keys()"
   ]
  },
  {
   "cell_type": "code",
   "execution_count": 20,
   "metadata": {},
   "outputs": [
    {
     "data": {
      "text/html": [
       "<div>\n",
       "<style scoped>\n",
       "    .dataframe tbody tr th:only-of-type {\n",
       "        vertical-align: middle;\n",
       "    }\n",
       "\n",
       "    .dataframe tbody tr th {\n",
       "        vertical-align: top;\n",
       "    }\n",
       "\n",
       "    .dataframe thead th {\n",
       "        text-align: right;\n",
       "    }\n",
       "</style>\n",
       "<table border=\"1\" class=\"dataframe\">\n",
       "  <thead>\n",
       "    <tr style=\"text-align: right;\">\n",
       "      <th></th>\n",
       "      <th>names</th>\n",
       "      <th>age</th>\n",
       "      <th>location</th>\n",
       "    </tr>\n",
       "  </thead>\n",
       "  <tbody>\n",
       "    <tr>\n",
       "      <th>0</th>\n",
       "      <td>Youssef</td>\n",
       "      <td>24</td>\n",
       "      <td>Oakvile</td>\n",
       "    </tr>\n",
       "    <tr>\n",
       "      <th>1</th>\n",
       "      <td>Seif</td>\n",
       "      <td>28</td>\n",
       "      <td>Burlington</td>\n",
       "    </tr>\n",
       "    <tr>\n",
       "      <th>2</th>\n",
       "      <td>Hazem</td>\n",
       "      <td>32</td>\n",
       "      <td>Hami;lton</td>\n",
       "    </tr>\n",
       "    <tr>\n",
       "      <th>3</th>\n",
       "      <td>Aly</td>\n",
       "      <td>50</td>\n",
       "      <td>Egypr</td>\n",
       "    </tr>\n",
       "  </tbody>\n",
       "</table>\n",
       "</div>"
      ],
      "text/plain": [
       "     names  age    location\n",
       "0  Youssef   24     Oakvile\n",
       "1     Seif   28  Burlington\n",
       "2    Hazem   32   Hami;lton\n",
       "3      Aly   50       Egypr"
      ]
     },
     "execution_count": 20,
     "metadata": {},
     "output_type": "execute_result"
    }
   ],
   "source": [
    "df"
   ]
  },
  {
   "cell_type": "code",
   "execution_count": null,
   "metadata": {},
   "outputs": [],
   "source": []
  }
 ],
 "metadata": {
  "kernelspec": {
   "display_name": "Python 3",
   "language": "python",
   "name": "python3"
  },
  "language_info": {
   "codemirror_mode": {
    "name": "ipython",
    "version": 3
   },
   "file_extension": ".py",
   "mimetype": "text/x-python",
   "name": "python",
   "nbconvert_exporter": "python",
   "pygments_lexer": "ipython3",
   "version": "3.7.3"
  }
 },
 "nbformat": 4,
 "nbformat_minor": 2
}
